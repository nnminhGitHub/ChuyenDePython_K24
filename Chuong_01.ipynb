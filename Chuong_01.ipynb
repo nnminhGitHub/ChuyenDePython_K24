{
 "cells": [
  {
   "cell_type": "code",
   "execution_count": null,
   "id": "ca30c7b9",
   "metadata": {},
   "outputs": [],
   "source": [
    "# Cú pháp Python cơ bản\n",
    "print('nnminh')"
   ]
  },
  {
   "cell_type": "code",
   "execution_count": null,
   "id": "4585a733",
   "metadata": {},
   "outputs": [],
   "source": [
    "a='nnminh'\n",
    "print(a)\n",
    "print('nnminh' + 'nnminh')\n",
    "print(type(a))"
   ]
  },
  {
   "cell_type": "code",
   "execution_count": 1,
   "id": "32798eba",
   "metadata": {},
   "outputs": [
    {
     "name": "stdout",
     "output_type": "stream",
     "text": [
      "Phương trình vô nghiệm thực.\n"
     ]
    }
   ],
   "source": [
    "# Giải phương trình bậc 2: ax^2 + bx + c = 0\n",
    "\n",
    "import math\n",
    "\n",
    "# Nhập hệ số\n",
    "a = float(input(\"Nhập a: \"))\n",
    "b = float(input(\"Nhập b: \"))\n",
    "c = float(input(\"Nhập c: \"))\n",
    "\n",
    "if a == 0:\n",
    "    if b == 0:\n",
    "        if c == 0:\n",
    "            print(\"Phương trình có vô số nghiệm.\")\n",
    "        else:\n",
    "            print(\"Phương trình vô nghiệm.\")\n",
    "    else:\n",
    "        x = -c / b\n",
    "        print(f\"Phương trình có một nghiệm: x = {x}\")\n",
    "else:\n",
    "    delta = b**2 - 4*a*c\n",
    "    if delta < 0:\n",
    "        print(\"Phương trình vô nghiệm thực.\")\n",
    "    elif delta == 0:\n",
    "        x = -b / (2*a)\n",
    "        print(f\"Phương trình có nghiệm kép: x = {x}\")\n",
    "    else:\n",
    "        x1 = (-b + math.sqrt(delta)) / (2*a)\n",
    "        x2 = (-b - math.sqrt(delta)) / (2*a)\n",
    "        print(f\"Phương trình có hai nghiệm phân biệt: x1 = {x1}, x2 = {x2}\")"
   ]
  }
 ],
 "metadata": {
  "kernelspec": {
   "display_name": "Python 3",
   "language": "python",
   "name": "python3"
  },
  "language_info": {
   "codemirror_mode": {
    "name": "ipython",
    "version": 3
   },
   "file_extension": ".py",
   "mimetype": "text/x-python",
   "name": "python",
   "nbconvert_exporter": "python",
   "pygments_lexer": "ipython3",
   "version": "3.12.8"
  }
 },
 "nbformat": 4,
 "nbformat_minor": 5
}
